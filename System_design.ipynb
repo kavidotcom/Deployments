{
 "cells": [
  {
   "cell_type": "code",
   "execution_count": 57,
   "id": "240a7fe5",
   "metadata": {},
   "outputs": [],
   "source": [
    "import pandas as pd\n",
    "import numpy as np\n",
    "import requests\n",
    "import zipfile\n",
    "import io\n",
    "import datetime\n",
    "import mlflow\n",
    "from scipy.stats import ks_2samp, chi2_contingency\n",
    "\n",
    "from sklearn import datasets, ensemble, model_selection\n",
    "from sklearn.metrics import mean_absolute_error\n",
    "from sklearn.metrics import mean_squared_error\n",
    "from sklearn.metrics import r2_score\n",
    "\n",
    "# from evidently.report import Report\n",
    "# from evidently.metric_preset import DataDriftPreset\n",
    "# from evidently import ColumnMapping\n"
   ]
  },
  {
   "cell_type": "code",
   "execution_count": 10,
   "id": "0bb175d6",
   "metadata": {},
   "outputs": [],
   "source": [
    "content = requests.get(\"https://archive.ics.uci.edu/ml/machine-learning-databases/00275/Bike-Sharing-Dataset.zip\").content\n",
    "with zipfile.ZipFile(io.BytesIO(content)) as arc:\n",
    "    raw_data = pd.read_csv(arc.open(\"hour.csv\"), header=0, sep=',', parse_dates=['dteday'])"
   ]
  },
  {
   "cell_type": "code",
   "execution_count": 11,
   "id": "85020863",
   "metadata": {},
   "outputs": [],
   "source": [
    "raw_data.index = raw_data.apply(lambda row: datetime.datetime.combine(row.dteday.date(), datetime.time(row.hr)), axis=1)\n"
   ]
  },
  {
   "cell_type": "code",
   "execution_count": 12,
   "id": "e39f3b34",
   "metadata": {},
   "outputs": [
    {
     "data": {
      "text/html": [
       "<div>\n",
       "<style scoped>\n",
       "    .dataframe tbody tr th:only-of-type {\n",
       "        vertical-align: middle;\n",
       "    }\n",
       "\n",
       "    .dataframe tbody tr th {\n",
       "        vertical-align: top;\n",
       "    }\n",
       "\n",
       "    .dataframe thead th {\n",
       "        text-align: right;\n",
       "    }\n",
       "</style>\n",
       "<table border=\"1\" class=\"dataframe\">\n",
       "  <thead>\n",
       "    <tr style=\"text-align: right;\">\n",
       "      <th></th>\n",
       "      <th>instant</th>\n",
       "      <th>dteday</th>\n",
       "      <th>season</th>\n",
       "      <th>yr</th>\n",
       "      <th>mnth</th>\n",
       "      <th>hr</th>\n",
       "      <th>holiday</th>\n",
       "      <th>weekday</th>\n",
       "      <th>workingday</th>\n",
       "      <th>weathersit</th>\n",
       "      <th>temp</th>\n",
       "      <th>atemp</th>\n",
       "      <th>hum</th>\n",
       "      <th>windspeed</th>\n",
       "      <th>casual</th>\n",
       "      <th>registered</th>\n",
       "      <th>cnt</th>\n",
       "    </tr>\n",
       "  </thead>\n",
       "  <tbody>\n",
       "    <tr>\n",
       "      <th>2011-01-01 00:00:00</th>\n",
       "      <td>1</td>\n",
       "      <td>2011-01-01</td>\n",
       "      <td>1</td>\n",
       "      <td>0</td>\n",
       "      <td>1</td>\n",
       "      <td>0</td>\n",
       "      <td>0</td>\n",
       "      <td>6</td>\n",
       "      <td>0</td>\n",
       "      <td>1</td>\n",
       "      <td>0.24</td>\n",
       "      <td>0.2879</td>\n",
       "      <td>0.81</td>\n",
       "      <td>0.0</td>\n",
       "      <td>3</td>\n",
       "      <td>13</td>\n",
       "      <td>16</td>\n",
       "    </tr>\n",
       "    <tr>\n",
       "      <th>2011-01-01 01:00:00</th>\n",
       "      <td>2</td>\n",
       "      <td>2011-01-01</td>\n",
       "      <td>1</td>\n",
       "      <td>0</td>\n",
       "      <td>1</td>\n",
       "      <td>1</td>\n",
       "      <td>0</td>\n",
       "      <td>6</td>\n",
       "      <td>0</td>\n",
       "      <td>1</td>\n",
       "      <td>0.22</td>\n",
       "      <td>0.2727</td>\n",
       "      <td>0.80</td>\n",
       "      <td>0.0</td>\n",
       "      <td>8</td>\n",
       "      <td>32</td>\n",
       "      <td>40</td>\n",
       "    </tr>\n",
       "    <tr>\n",
       "      <th>2011-01-01 02:00:00</th>\n",
       "      <td>3</td>\n",
       "      <td>2011-01-01</td>\n",
       "      <td>1</td>\n",
       "      <td>0</td>\n",
       "      <td>1</td>\n",
       "      <td>2</td>\n",
       "      <td>0</td>\n",
       "      <td>6</td>\n",
       "      <td>0</td>\n",
       "      <td>1</td>\n",
       "      <td>0.22</td>\n",
       "      <td>0.2727</td>\n",
       "      <td>0.80</td>\n",
       "      <td>0.0</td>\n",
       "      <td>5</td>\n",
       "      <td>27</td>\n",
       "      <td>32</td>\n",
       "    </tr>\n",
       "    <tr>\n",
       "      <th>2011-01-01 03:00:00</th>\n",
       "      <td>4</td>\n",
       "      <td>2011-01-01</td>\n",
       "      <td>1</td>\n",
       "      <td>0</td>\n",
       "      <td>1</td>\n",
       "      <td>3</td>\n",
       "      <td>0</td>\n",
       "      <td>6</td>\n",
       "      <td>0</td>\n",
       "      <td>1</td>\n",
       "      <td>0.24</td>\n",
       "      <td>0.2879</td>\n",
       "      <td>0.75</td>\n",
       "      <td>0.0</td>\n",
       "      <td>3</td>\n",
       "      <td>10</td>\n",
       "      <td>13</td>\n",
       "    </tr>\n",
       "    <tr>\n",
       "      <th>2011-01-01 04:00:00</th>\n",
       "      <td>5</td>\n",
       "      <td>2011-01-01</td>\n",
       "      <td>1</td>\n",
       "      <td>0</td>\n",
       "      <td>1</td>\n",
       "      <td>4</td>\n",
       "      <td>0</td>\n",
       "      <td>6</td>\n",
       "      <td>0</td>\n",
       "      <td>1</td>\n",
       "      <td>0.24</td>\n",
       "      <td>0.2879</td>\n",
       "      <td>0.75</td>\n",
       "      <td>0.0</td>\n",
       "      <td>0</td>\n",
       "      <td>1</td>\n",
       "      <td>1</td>\n",
       "    </tr>\n",
       "  </tbody>\n",
       "</table>\n",
       "</div>"
      ],
      "text/plain": [
       "                     instant     dteday  season  yr  mnth  hr  holiday  \\\n",
       "2011-01-01 00:00:00        1 2011-01-01       1   0     1   0        0   \n",
       "2011-01-01 01:00:00        2 2011-01-01       1   0     1   1        0   \n",
       "2011-01-01 02:00:00        3 2011-01-01       1   0     1   2        0   \n",
       "2011-01-01 03:00:00        4 2011-01-01       1   0     1   3        0   \n",
       "2011-01-01 04:00:00        5 2011-01-01       1   0     1   4        0   \n",
       "\n",
       "                     weekday  workingday  weathersit  temp   atemp   hum  \\\n",
       "2011-01-01 00:00:00        6           0           1  0.24  0.2879  0.81   \n",
       "2011-01-01 01:00:00        6           0           1  0.22  0.2727  0.80   \n",
       "2011-01-01 02:00:00        6           0           1  0.22  0.2727  0.80   \n",
       "2011-01-01 03:00:00        6           0           1  0.24  0.2879  0.75   \n",
       "2011-01-01 04:00:00        6           0           1  0.24  0.2879  0.75   \n",
       "\n",
       "                     windspeed  casual  registered  cnt  \n",
       "2011-01-01 00:00:00        0.0       3          13   16  \n",
       "2011-01-01 01:00:00        0.0       8          32   40  \n",
       "2011-01-01 02:00:00        0.0       5          27   32  \n",
       "2011-01-01 03:00:00        0.0       3          10   13  \n",
       "2011-01-01 04:00:00        0.0       0           1    1  "
      ]
     },
     "execution_count": 12,
     "metadata": {},
     "output_type": "execute_result"
    }
   ],
   "source": [
    "raw_data.head()"
   ]
  },
  {
   "cell_type": "code",
   "execution_count": 13,
   "id": "e2ac5757",
   "metadata": {},
   "outputs": [
    {
     "name": "stdout",
     "output_type": "stream",
     "text": [
      "<class 'pandas.core.frame.DataFrame'>\n",
      "DatetimeIndex: 17379 entries, 2011-01-01 00:00:00 to 2012-12-31 23:00:00\n",
      "Data columns (total 17 columns):\n",
      " #   Column      Non-Null Count  Dtype         \n",
      "---  ------      --------------  -----         \n",
      " 0   instant     17379 non-null  int64         \n",
      " 1   dteday      17379 non-null  datetime64[ns]\n",
      " 2   season      17379 non-null  int64         \n",
      " 3   yr          17379 non-null  int64         \n",
      " 4   mnth        17379 non-null  int64         \n",
      " 5   hr          17379 non-null  int64         \n",
      " 6   holiday     17379 non-null  int64         \n",
      " 7   weekday     17379 non-null  int64         \n",
      " 8   workingday  17379 non-null  int64         \n",
      " 9   weathersit  17379 non-null  int64         \n",
      " 10  temp        17379 non-null  float64       \n",
      " 11  atemp       17379 non-null  float64       \n",
      " 12  hum         17379 non-null  float64       \n",
      " 13  windspeed   17379 non-null  float64       \n",
      " 14  casual      17379 non-null  int64         \n",
      " 15  registered  17379 non-null  int64         \n",
      " 16  cnt         17379 non-null  int64         \n",
      "dtypes: datetime64[ns](1), float64(4), int64(12)\n",
      "memory usage: 2.4 MB\n"
     ]
    }
   ],
   "source": [
    "raw_data.info()"
   ]
  },
  {
   "cell_type": "code",
   "execution_count": null,
   "id": "41198b17",
   "metadata": {},
   "outputs": [],
   "source": [
    "# numerical_features = [i for i in raw_data.columns if raw_data[i].dtype in [int, float]]"
   ]
  },
  {
   "cell_type": "code",
   "execution_count": null,
   "id": "b0e039aa",
   "metadata": {},
   "outputs": [
    {
     "data": {
      "text/plain": [
       "16"
      ]
     },
     "execution_count": 25,
     "metadata": {},
     "output_type": "execute_result"
    }
   ],
   "source": [
    "# len(numerical_features)"
   ]
  },
  {
   "cell_type": "code",
   "execution_count": 26,
   "id": "dc21bab1",
   "metadata": {},
   "outputs": [],
   "source": [
    "numerical_features = ['temp', 'atemp', 'hum', 'windspeed', 'mnth', 'hr', 'weekday']\n",
    "cat_features = ['season', 'holiday', 'workingday']\n",
    "\n",
    "reference = raw_data.loc['2011-01-01 00:00:00':'2011-01-28 23:00:00']\n",
    "current = raw_data.loc['2011-01-29 00:00:00':'2011-02-28 23:00:00']"
   ]
  },
  {
   "cell_type": "code",
   "execution_count": 30,
   "id": "b0f0885b",
   "metadata": {},
   "outputs": [
    {
     "data": {
      "text/plain": [
       "np.float64(6.026276035162504e-32)"
      ]
     },
     "execution_count": 30,
     "metadata": {},
     "output_type": "execute_result"
    }
   ],
   "source": [
    "ks_2samp(reference['temp'], current['temp'])[1]"
   ]
  },
  {
   "cell_type": "code",
   "execution_count": 31,
   "id": "1454e2cd",
   "metadata": {},
   "outputs": [],
   "source": [
    "data_drift = 0\n",
    "for col in numerical_features:\n",
    "    ks = ks_2samp(reference[col], current[col])[1]\n",
    "    if ks < 0.05 :\n",
    "        data_drift += 1"
   ]
  },
  {
   "cell_type": "code",
   "execution_count": 32,
   "id": "8577b716",
   "metadata": {},
   "outputs": [
    {
     "data": {
      "text/plain": [
       "5"
      ]
     },
     "execution_count": 32,
     "metadata": {},
     "output_type": "execute_result"
    }
   ],
   "source": [
    "data_drift"
   ]
  },
  {
   "cell_type": "code",
   "execution_count": null,
   "id": "d4cdcc12",
   "metadata": {},
   "outputs": [
    {
     "data": {
      "text/plain": [
       "season\n",
       "1    618\n",
       "Name: count, dtype: int64"
      ]
     },
     "execution_count": 36,
     "metadata": {},
     "output_type": "execute_result"
    }
   ],
   "source": [
    "# reference['season'].value_counts()"
   ]
  },
  {
   "cell_type": "code",
   "execution_count": 37,
   "id": "2873e846",
   "metadata": {},
   "outputs": [
    {
     "data": {
      "text/plain": [
       "0"
      ]
     },
     "execution_count": 37,
     "metadata": {},
     "output_type": "execute_result"
    }
   ],
   "source": [
    "data_drift = 0\n",
    "for col in cat_features:\n",
    "    ks = chi2_contingency([reference[col].value_counts(), current[col].value_counts()])[1]\n",
    "    if ks < 0.05 :\n",
    "        data_drift += 1\n",
    "\n",
    "data_drift"
   ]
  },
  {
   "cell_type": "code",
   "execution_count": 38,
   "id": "9da33f43",
   "metadata": {},
   "outputs": [],
   "source": [
    "target = 'cnt'\n",
    "numerical_features = ['temp', 'atemp', 'hum', 'windspeed', 'mnth', 'hr', 'weekday']\n",
    "cat_features = ['season', 'holiday', 'workingday']\n"
   ]
  },
  {
   "cell_type": "code",
   "execution_count": 46,
   "id": "059088ab",
   "metadata": {},
   "outputs": [],
   "source": [
    "x_train, x_test, y_train, y_test = model_selection.train_test_split(\n",
    "    reference[numerical_features + cat_features],\n",
    "    reference[target],\n",
    "    test_size = 0.3\n",
    ")"
   ]
  },
  {
   "cell_type": "code",
   "execution_count": 47,
   "id": "fbe97c29",
   "metadata": {},
   "outputs": [],
   "source": [
    "reg = ensemble.RandomForestRegressor(\n",
    "    random_state=0\n",
    ")\n",
    "reg.fit(x_train, y_train)\n",
    "pred = reg.predict(x_test)"
   ]
  },
  {
   "cell_type": "code",
   "execution_count": 48,
   "id": "16bfb778",
   "metadata": {},
   "outputs": [
    {
     "name": "stdout",
     "output_type": "stream",
     "text": [
      "MAE 11.972795698924735\n",
      "MSE 338.55659247311826\n",
      "R2 0.8650485213907592\n"
     ]
    }
   ],
   "source": [
    "ref_mae=mean_absolute_error(y_test,pred)\n",
    "ref_mse=mean_squared_error(y_test,pred)\n",
    "ref_r2 = r2_score(y_test,pred)\n",
    "\n",
    "\n",
    "print(\"MAE\",ref_mae)\n",
    "print(\"MSE\",ref_mse)\n",
    "print(\"R2\",ref_r2)"
   ]
  },
  {
   "cell_type": "code",
   "execution_count": 49,
   "id": "01ab9b33",
   "metadata": {},
   "outputs": [],
   "source": [
    "x_train, x_test, y_train, y_test = model_selection.train_test_split(\n",
    "    current[numerical_features + cat_features],\n",
    "    current[target],\n",
    "    test_size = 0.3\n",
    ")"
   ]
  },
  {
   "cell_type": "code",
   "execution_count": 50,
   "id": "00a50ff1",
   "metadata": {},
   "outputs": [],
   "source": [
    "reg = ensemble.RandomForestRegressor(\n",
    "    random_state=0\n",
    ")\n",
    "reg.fit(x_train, y_train)\n",
    "pred = reg.predict(x_test)"
   ]
  },
  {
   "cell_type": "code",
   "execution_count": 51,
   "id": "06716878",
   "metadata": {},
   "outputs": [
    {
     "name": "stdout",
     "output_type": "stream",
     "text": [
      "MAE 14.774444444444443\n",
      "MSE 589.0735055555556\n",
      "R2 0.8430636466130217\n"
     ]
    }
   ],
   "source": [
    "ref_mae=mean_absolute_error(y_test,pred)\n",
    "ref_mse=mean_squared_error(y_test,pred)\n",
    "ref_r2 = r2_score(y_test,pred)\n",
    "\n",
    "\n",
    "print(\"MAE\",ref_mae)\n",
    "print(\"MSE\",ref_mse)\n",
    "print(\"R2\",ref_r2)"
   ]
  },
  {
   "cell_type": "code",
   "execution_count": 52,
   "id": "86294dee",
   "metadata": {},
   "outputs": [],
   "source": [
    "experiment_batches = [\n",
    "    ('2011-01-29 00:00:00','2011-02-07 23:00:00'),\n",
    "    ('2011-02-07 00:00:00','2011-02-14 23:00:00'),\n",
    "    ('2011-02-15 00:00:00','2011-02-21 23:00:00'),\n",
    "]"
   ]
  },
  {
   "cell_type": "code",
   "execution_count": 54,
   "id": "206cb643",
   "metadata": {},
   "outputs": [
    {
     "name": "stdout",
     "output_type": "stream",
     "text": [
      "<RunInfo: artifact_uri='file:///Users/kavithiyagu/Documents/Projects/Deployments/mlruns/0/35e9810e89ca4ab3ad767e5aba2ca528/artifacts', end_time=None, experiment_id='0', lifecycle_stage='active', run_id='35e9810e89ca4ab3ad767e5aba2ca528', run_name='learned-midge-816', run_uuid='35e9810e89ca4ab3ad767e5aba2ca528', start_time=1746174137880, status='RUNNING', user_id='kavithiyagu'>\n",
      "<RunInfo: artifact_uri='file:///Users/kavithiyagu/Documents/Projects/Deployments/mlruns/0/b02ba1ed7c704a6fb07ad12de5ee5788/artifacts', end_time=None, experiment_id='0', lifecycle_stage='active', run_id='b02ba1ed7c704a6fb07ad12de5ee5788', run_name='handsome-gnu-21', run_uuid='b02ba1ed7c704a6fb07ad12de5ee5788', start_time=1746174137900, status='RUNNING', user_id='kavithiyagu'>\n",
      "<RunInfo: artifact_uri='file:///Users/kavithiyagu/Documents/Projects/Deployments/mlruns/0/9cae43a350e04ca8bb4f3f15b53c7e87/artifacts', end_time=None, experiment_id='0', lifecycle_stage='active', run_id='9cae43a350e04ca8bb4f3f15b53c7e87', run_name='capricious-quail-279', run_uuid='9cae43a350e04ca8bb4f3f15b53c7e87', start_time=1746174137917, status='RUNNING', user_id='kavithiyagu'>\n"
     ]
    }
   ],
   "source": [
    "for date in experiment_batches:\n",
    "\twith mlflow.start_run() as run: #inside brackets run_name='test'\n",
    "\t\tmlflow.set_tag('mlflow.runName',\"run_\"+str(date[0])+\" : \"+str(date[1]))\n",
    "\n",
    "\t\t# Log parameters\n",
    "\t\tmlflow.log_param(\"start_date\", date[0])\n",
    "\t\tmlflow.log_param(\"end_date\", date[1])\n",
    "\n",
    "\t\t# Log metrics\n",
    "\t\tcurrent_data=current.loc[date[0]:date[1]]\n",
    "\t\tcurrent_x=current_data[numerical_features + cat_features]\n",
    "\t\tcurrent_y=current_data[target]\n",
    "\t\tcurrent_pred = reg.predict(current_x)\n",
    "\n",
    "\n",
    "\t\tmae=mean_absolute_error(current_y,current_pred)\n",
    "\t\tmse=mean_squared_error(current_y,current_pred)\n",
    "\t\tr2 = r2_score(current_y,current_pred)\n",
    "\n",
    "\t\t# Log metrics\n",
    "\t\tmlflow.log_metric('MAE', round(mae, 3))\n",
    "\t\tmlflow.log_metric('MSE', round(mse, 3))\n",
    "\t\tmlflow.log_metric('R2', round(r2, 3))\n",
    "\n",
    "\t\tprint(run.info)\n"
   ]
  },
  {
   "cell_type": "code",
   "execution_count": null,
   "id": "2aca0e36",
   "metadata": {},
   "outputs": [],
   "source": []
  }
 ],
 "metadata": {
  "kernelspec": {
   "display_name": "appy",
   "language": "python",
   "name": "python3"
  },
  "language_info": {
   "codemirror_mode": {
    "name": "ipython",
    "version": 3
   },
   "file_extension": ".py",
   "mimetype": "text/x-python",
   "name": "python",
   "nbconvert_exporter": "python",
   "pygments_lexer": "ipython3",
   "version": "3.13.2"
  }
 },
 "nbformat": 4,
 "nbformat_minor": 5
}
